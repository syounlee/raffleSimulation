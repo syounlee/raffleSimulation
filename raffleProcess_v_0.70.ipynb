{
 "cells": [
  {
   "cell_type": "markdown",
   "id": "0ba918ec-1949-41c2-b73e-0b9f0ca295f0",
   "metadata": {},
   "source": [
    "### Import necessary Libraries"
   ]
  },
  {
   "cell_type": "code",
   "execution_count": 1,
   "id": "81071b38-d111-408a-baaf-c9258175a6a8",
   "metadata": {},
   "outputs": [],
   "source": [
    "import json\n",
    "\n",
    "import numpy as np\n",
    "import pandas as pd"
   ]
  },
  {
   "cell_type": "markdown",
   "id": "c5d1a6d2-d23d-45a5-afc6-0a9fe468993b",
   "metadata": {},
   "source": [
    "#### Assumptions\n",
    "\n",
    "We set the base price and the seed for the random number generator."
   ]
  },
  {
   "cell_type": "code",
   "execution_count": 2,
   "id": "f3edb8a2-c476-485d-9ff1-4a4a32e2525f",
   "metadata": {},
   "outputs": [],
   "source": [
    "base = 100\n",
    "\n",
    "seed = 2021"
   ]
  },
  {
   "cell_type": "markdown",
   "id": "4db110d6-90e2-43b1-a859-d837cd2deedb",
   "metadata": {},
   "source": [
    "#### Random number generator"
   ]
  },
  {
   "cell_type": "code",
   "execution_count": 3,
   "id": "fc131b66-dcb3-4096-96d6-c7a32bac7c6d",
   "metadata": {},
   "outputs": [],
   "source": [
    "rng = np.random.default_rng(seed)"
   ]
  },
  {
   "cell_type": "markdown",
   "id": "fa00a691-228c-4482-a69d-239f2169fad6",
   "metadata": {},
   "source": [
    "### Upload the raffle data"
   ]
  },
  {
   "cell_type": "code",
   "execution_count": 4,
   "id": "f12f096c",
   "metadata": {},
   "outputs": [],
   "source": [
    "data = json.loads('{\"Address\":{\"0\":\"0x0123456789abcdef0000000000000000000001\",\"1\":\"0x0123456789abcdef0000000000000000000002\",\"2\":\"0x0123456789abcdef0000000000000000000003\",\"3\":\"0x0123456789abcdef0000000000000000000004\",\"4\":\"0x0123456789abcdef0000000000000000000005\",\"5\":\"0x0123456789abcdef0000000000000000000006\",\"6\":\"0x0123456789abcdef0000000000000000000007\",\"7\":\"0x0123456789abcdef0000000000000000000008\",\"8\":\"0x0123456789abcdef0000000000000000000009\",\"9\":\"0x0123456789abcdef0000000000000000000010\",\"10\":\"0x0123456789abcdef0000000000000000000011\",\"11\":\"0x0123456789abcdef0000000000000000000012\",\"12\":\"0x0123456789abcdef0000000000000000000013\",\"13\":\"0x0123456789abcdef0000000000000000000014\",\"14\":\"0x0123456789abcdef0000000000000000000015\",\"15\":\"0x0123456789abcdef0000000000000000000016\",\"16\":\"0x0123456789abcdef0000000000000000000017\",\"17\":\"0x0123456789abcdef0000000000000000000018\",\"18\":\"0x0123456789abcdef0000000000000000000019\",\"19\":\"0x0123456789abcdef0000000000000000000020\",\"20\":\"0x0123456789abcdef0000000000000000000021\",\"21\":\"0x0123456789abcdef0000000000000000000022\",\"22\":\"0x0123456789abcdef0000000000000000000023\",\"23\":\"0x0123456789abcdef0000000000000000000024\",\"24\":\"0x0123456789abcdef0000000000000000000025\",\"25\":\"0x0123456789abcdef0000000000000000000026\",\"26\":\"0x0123456789abcdef0000000000000000000027\",\"27\":\"0x0123456789abcdef0000000000000000000028\",\"28\":\"0x0123456789abcdef0000000000000000000029\",\"29\":\"0x0123456789abcdef0000000000000000000030\",\"30\":\"0x0123456789abcdef0000000000000000000031\",\"31\":\"0x0123456789abcdef0000000000000000000032\",\"32\":\"0x0123456789abcdef0000000000000000000033\",\"33\":\"0x0123456789abcdef0000000000000000000034\",\"34\":\"0x0123456789abcdef0000000000000000000035\",\"35\":\"0x0123456789abcdef0000000000000000000036\",\"36\":\"0x0123456789abcdef0000000000000000000037\",\"37\":\"0x0123456789abcdef0000000000000000000038\",\"38\":\"0x0123456789abcdef0000000000000000000039\",\"39\":\"0x0123456789abcdef0000000000000000000040\",\"40\":\"0x0123456789abcdef0000000000000000000041\",\"41\":\"0x0123456789abcdef0000000000000000000042\",\"42\":\"0x0123456789abcdef0000000000000000000043\",\"43\":\"0x0123456789abcdef0000000000000000000044\",\"44\":\"0x0123456789abcdef0000000000000000000045\",\"45\":\"0x0123456789abcdef0000000000000000000046\",\"46\":\"0x0123456789abcdef0000000000000000000047\",\"47\":\"0x0123456789abcdef0000000000000000000048\",\"48\":\"0x0123456789abcdef0000000000000000000049\",\"49\":\"0x0123456789abcdef0000000000000000000050\"},\"Stake\":{\"0\":161,\"1\":107,\"2\":136,\"3\":143,\"4\":225,\"5\":148,\"6\":188,\"7\":185,\"8\":100,\"9\":297,\"10\":174,\"11\":100,\"12\":155,\"13\":100,\"14\":190,\"15\":100,\"16\":107,\"17\":188,\"18\":186,\"19\":179,\"20\":182,\"21\":100,\"22\":165,\"23\":100,\"24\":100,\"25\":141,\"26\":148,\"27\":100,\"28\":100,\"29\":160,\"30\":100,\"31\":166,\"32\":118,\"33\":100,\"34\":128,\"35\":136,\"36\":250,\"37\":163,\"38\":100,\"39\":209,\"40\":100,\"41\":180,\"42\":100,\"43\":107,\"44\":178,\"45\":185,\"46\":100,\"47\":101,\"48\":100,\"49\":136},\"Tokens\":{\"0\":10,\"1\":12,\"2\":0,\"3\":7,\"4\":0,\"5\":3,\"6\":12,\"7\":7,\"8\":14,\"9\":14,\"10\":16,\"11\":0,\"12\":12,\"13\":0,\"14\":18,\"15\":18,\"16\":14,\"17\":6,\"18\":7,\"19\":2,\"20\":6,\"21\":12,\"22\":0,\"23\":8,\"24\":5,\"25\":0,\"26\":20,\"27\":0,\"28\":10,\"29\":12,\"30\":12,\"31\":4,\"32\":9,\"33\":0,\"34\":0,\"35\":2,\"36\":3,\"37\":1,\"38\":18,\"39\":0,\"40\":10,\"41\":4,\"42\":8,\"43\":8,\"44\":4,\"45\":1,\"46\":9,\"47\":8,\"48\":2,\"49\":0}}')\n",
    "df = pd.DataFrame(data=data)\n",
    "df.index = range(df.shape[0])"
   ]
  },
  {
   "cell_type": "markdown",
   "id": "2bfcff4e-e97b-496d-91aa-8319178eb06d",
   "metadata": {},
   "source": [
    "### Definition of the Ticket Weight Function\n",
    "\n",
    "$$\n",
    "\\textrm{TWF} (\\textrm{base}, \\textrm{stake}, \\textrm{tokens}) = \\big( \\textrm{stake} - \\textrm{base} \\big)^m \\times \\big(\\textrm{token}+1\\big)^n \n",
    "$$"
   ]
  },
  {
   "cell_type": "code",
   "execution_count": 5,
   "id": "361c4807-a62f-4c33-bc6c-3e2aeba64f9d",
   "metadata": {},
   "outputs": [],
   "source": [
    "m = 1\n",
    "n = 2\n",
    "def TWF(inputs):\n",
    "    stake = inputs[0]\n",
    "    token = inputs[1]\n",
    "    return (stake-base) ** m * (token+1) ** n"
   ]
  },
  {
   "cell_type": "markdown",
   "id": "1e7844bb-224f-43f8-85e8-0a0e7dfe7794",
   "metadata": {},
   "source": [
    "### Calculate the Ticket Weight\n",
    "We calculate the ticket weights of the participants using the TFT function defined above."
   ]
  },
  {
   "cell_type": "code",
   "execution_count": 6,
   "id": "0ac2bb16-ce97-4981-ad6c-1644249dd6ac",
   "metadata": {},
   "outputs": [],
   "source": [
    "df['ticketWeight'] = df[['Stake','Tokens']].apply(TWF,axis=1)"
   ]
  },
  {
   "cell_type": "markdown",
   "id": "366e0e2b-ef32-4d0a-b8e6-570758e4dae2",
   "metadata": {},
   "source": [
    "### Round 1\n",
    "Now we choose the first winner.\n",
    "\n",
    "Using ticket weights, we calculated the probability of winning for each participant. Note that the probability is proportional to the ticket weight, i.e.,\n",
    "\n"
   ]
  },
  {
   "cell_type": "markdown",
   "id": "d240933d-51c7-47cd-89de-e9e2153995c3",
   "metadata": {},
   "source": [
    "$$\n",
    "\\mathcal{P} \\{ \\textrm{participant A wins the round 1} \\} = \\frac{\\textrm{the ticket weight of the pariticipant A}}{\\textrm{the sum of all weights of the participants in the Round 1}}\n",
    "$$"
   ]
  },
  {
   "cell_type": "code",
   "execution_count": 7,
   "id": "ebbaf042-4c1f-4b80-8314-0d748f0196cd",
   "metadata": {},
   "outputs": [],
   "source": [
    "probabilities = (df['ticketWeight'] / df['ticketWeight'].sum()).tolist()"
   ]
  },
  {
   "cell_type": "markdown",
   "id": "201adadd-618a-4323-a08a-ec30a25aed10",
   "metadata": {},
   "source": [
    "##### Random Number\n",
    "Now chood a random number between 0 and 1."
   ]
  },
  {
   "cell_type": "code",
   "execution_count": 8,
   "id": "3988dade-7a17-4e55-b85c-49cb09d013c1",
   "metadata": {},
   "outputs": [],
   "source": [
    "rdn = rng.random()"
   ]
  },
  {
   "cell_type": "markdown",
   "id": "716583d7-aca2-433f-9a3f-b5769c06a7d5",
   "metadata": {
    "tags": []
   },
   "source": [
    "##### Find the winner\n",
    "The winner is chosen in the following way:\n",
    "\n",
    "Given the probabilities of the participants that sums to 1, each participants occupies part of the unit interval $[0,1]$. Then the first participant occupies from the 0 and the last participant does from 1- his/her probability to 1.\n",
    "\n",
    "Now the winner is chosen if the random number belongs to the interval of the winner."
   ]
  },
  {
   "cell_type": "code",
   "execution_count": 9,
   "id": "44bb23ab-89d8-4802-b04e-df1cd4493d84",
   "metadata": {},
   "outputs": [],
   "source": [
    "interval_points = [sum(probabilities[:n+1]) for n in range(len(probabilities))]"
   ]
  },
  {
   "cell_type": "code",
   "execution_count": 10,
   "id": "eabfca8b-839b-4fa6-a635-f971d1553def",
   "metadata": {},
   "outputs": [],
   "source": [
    "winnerIndex = len([x for x in interval_points if x < rdn])"
   ]
  },
  {
   "cell_type": "markdown",
   "id": "bef5eb05-0cb7-4816-9850-77bf4cc50b21",
   "metadata": {},
   "source": [
    "##### Winner of Round 1"
   ]
  },
  {
   "cell_type": "code",
   "execution_count": 11,
   "id": "44244ecf-7371-4329-9db7-7e9c84b1f1eb",
   "metadata": {},
   "outputs": [
    {
     "name": "stdout",
     "output_type": "stream",
     "text": [
      "The winner of Round 1 has address 0x0123456789abcdef0000000000000000000019.\n",
      "The winner had the winning probability   2.8%.\n"
     ]
    }
   ],
   "source": [
    "winnerAddress = df.loc[winnerIndex,'Address']\n",
    "print('The winner of Round 1 has address {}.'.format(winnerAddress))\n",
    "print('The winner had the winning probability {:5.1f}%.'.format(100*round(probabilities[winnerIndex],3)))"
   ]
  },
  {
   "cell_type": "markdown",
   "id": "dfc5a5e3-1bcf-4c89-ad7e-81e2aff0c142",
   "metadata": {},
   "source": [
    "### Round 2\n",
    "First eliminate the winner."
   ]
  },
  {
   "cell_type": "code",
   "execution_count": 12,
   "id": "14820bc0-c090-437a-b35d-20963750c3be",
   "metadata": {},
   "outputs": [],
   "source": [
    "df_Round2 = df[df['Address']!=winnerAddress]\n",
    "df_Round2 = df_Round2.reset_index(drop=True)"
   ]
  },
  {
   "cell_type": "markdown",
   "id": "50ef39a0-ddab-416b-b38b-90f3885cd934",
   "metadata": {},
   "source": [
    "And calculate the probabilities of winning in Round 2."
   ]
  },
  {
   "cell_type": "code",
   "execution_count": 13,
   "id": "274f72be-745b-4e26-ab59-973038c412b6",
   "metadata": {},
   "outputs": [],
   "source": [
    "probabilitiesRound2 = (df_Round2['ticketWeight'] / df_Round2['ticketWeight'].sum()).tolist()"
   ]
  },
  {
   "cell_type": "markdown",
   "id": "37f0083f-0d7e-4674-be9a-812374e9091e",
   "metadata": {},
   "source": [
    "##### Random number for Round 2"
   ]
  },
  {
   "cell_type": "code",
   "execution_count": 14,
   "id": "2c21a7bd-b2e1-4bb5-a3a2-42ccded8d144",
   "metadata": {},
   "outputs": [],
   "source": [
    "rdn = rng.random()"
   ]
  },
  {
   "cell_type": "markdown",
   "id": "fddd85e8-5633-44db-9df7-acc418ad3c40",
   "metadata": {
    "tags": []
   },
   "source": [
    "##### Find the winner of Round 2\n",
    "The winner is chosen as before in the following way:\n",
    "\n",
    "Given the probabilities of the participants that sums to 1, each participants occupies part of the unit interval $[0,1]$. Then the first participant occupies from the 0 and the last participant does from 1- his/her probability to 1.\n",
    "\n",
    "Now the winner is chosen if the random number belongs to the interval of the winner."
   ]
  },
  {
   "cell_type": "code",
   "execution_count": 15,
   "id": "5e0f0d42-42d6-4fed-8500-e37bf9083448",
   "metadata": {},
   "outputs": [],
   "source": [
    "interval_points = [sum(probabilitiesRound2[:n+1]) for n in range(len(probabilitiesRound2))]"
   ]
  },
  {
   "cell_type": "code",
   "execution_count": 16,
   "id": "42627dfa-1cd1-481e-b968-f33a3be40837",
   "metadata": {},
   "outputs": [],
   "source": [
    "winnerIndex = len([x for x in interval_points if x < rdn])"
   ]
  },
  {
   "cell_type": "markdown",
   "id": "ffb7e0b2-593b-440e-816d-528275820e8a",
   "metadata": {},
   "source": [
    "##### Winner of Round 2"
   ]
  },
  {
   "cell_type": "code",
   "execution_count": 17,
   "id": "5eb72501-f679-4a85-af32-7a272ae19877",
   "metadata": {},
   "outputs": [
    {
     "name": "stdout",
     "output_type": "stream",
     "text": [
      "The winner of Round 2 has address 0x0123456789abcdef0000000000000000000032.\n",
      "The winner had the winning probability   0.9%.\n"
     ]
    }
   ],
   "source": [
    "winnerAddress = df_Round2.loc[winnerIndex,'Address']\n",
    "print('The winner of Round 2 has address {}.'.format(winnerAddress))\n",
    "print('The winner had the winning probability {:5.1f}%.'.format(100*round(probabilitiesRound2[winnerIndex],3)))"
   ]
  },
  {
   "cell_type": "code",
   "execution_count": null,
   "id": "82eb82f5-ddc4-47c8-aa1c-b75e4264da20",
   "metadata": {},
   "outputs": [],
   "source": []
  }
 ],
 "metadata": {
  "interpreter": {
   "hash": "dc0bdc70a7bb2e17241366e13e903ae1b5ef00b33251a7a7c3cc439bee99a6d3"
  },
  "kernelspec": {
   "display_name": "Python 3 (ipykernel)",
   "language": "python",
   "name": "python3"
  },
  "language_info": {
   "codemirror_mode": {
    "name": "ipython",
    "version": 3
   },
   "file_extension": ".py",
   "mimetype": "text/x-python",
   "name": "python",
   "nbconvert_exporter": "python",
   "pygments_lexer": "ipython3",
   "version": "3.8.10"
  }
 },
 "nbformat": 4,
 "nbformat_minor": 5
}
