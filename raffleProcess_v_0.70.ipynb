{
 "cells": [
  {
   "cell_type": "markdown",
   "id": "0ba918ec-1949-41c2-b73e-0b9f0ca295f0",
   "metadata": {},
   "source": [
    "### Import necessary Libraries"
   ]
  },
  {
   "cell_type": "code",
   "execution_count": 1,
   "id": "81071b38-d111-408a-baaf-c9258175a6a8",
   "metadata": {},
   "outputs": [],
   "source": [
    "import numpy as np\n",
    "import pandas as pd"
   ]
  },
  {
   "cell_type": "markdown",
   "id": "c5d1a6d2-d23d-45a5-afc6-0a9fe468993b",
   "metadata": {},
   "source": [
    "#### Assumptions\n",
    "\n",
    "We set the base price and the seed for the random number generator."
   ]
  },
  {
   "cell_type": "code",
   "execution_count": 2,
   "id": "f3edb8a2-c476-485d-9ff1-4a4a32e2525f",
   "metadata": {},
   "outputs": [],
   "source": [
    "basePrice = 95\n",
    "\n",
    "seed = 2021"
   ]
  },
  {
   "cell_type": "markdown",
   "id": "4db110d6-90e2-43b1-a859-d837cd2deedb",
   "metadata": {},
   "source": [
    "#### Random number generator"
   ]
  },
  {
   "cell_type": "code",
   "execution_count": 3,
   "id": "fc131b66-dcb3-4096-96d6-c7a32bac7c6d",
   "metadata": {},
   "outputs": [],
   "source": [
    "rng = np.random.default_rng(seed)"
   ]
  },
  {
   "cell_type": "markdown",
   "id": "fa00a691-228c-4482-a69d-239f2169fad6",
   "metadata": {},
   "source": [
    "### Upload the raffle data"
   ]
  },
  {
   "cell_type": "code",
   "execution_count": 4,
   "id": "1dd57be5-2a67-45df-a89b-82a9d8aca0a8",
   "metadata": {},
   "outputs": [],
   "source": [
    "df = pd.read_csv('data/Simulated_Participants.csv')"
   ]
  },
  {
   "cell_type": "code",
   "execution_count": 5,
   "id": "166db5ba-d44e-4638-83c8-adeaebaea2ab",
   "metadata": {},
   "outputs": [
    {
     "data": {
      "text/html": [
       "<div>\n",
       "<style scoped>\n",
       "    .dataframe tbody tr th:only-of-type {\n",
       "        vertical-align: middle;\n",
       "    }\n",
       "\n",
       "    .dataframe tbody tr th {\n",
       "        vertical-align: top;\n",
       "    }\n",
       "\n",
       "    .dataframe thead th {\n",
       "        text-align: right;\n",
       "    }\n",
       "</style>\n",
       "<table border=\"1\" class=\"dataframe\">\n",
       "  <thead>\n",
       "    <tr style=\"text-align: right;\">\n",
       "      <th></th>\n",
       "      <th>Address</th>\n",
       "      <th>Stake</th>\n",
       "      <th>Tokens</th>\n",
       "    </tr>\n",
       "  </thead>\n",
       "  <tbody>\n",
       "    <tr>\n",
       "      <th>0</th>\n",
       "      <td>0x0123456789abcdef0000000000000000000001</td>\n",
       "      <td>161</td>\n",
       "      <td>10</td>\n",
       "    </tr>\n",
       "    <tr>\n",
       "      <th>1</th>\n",
       "      <td>0x0123456789abcdef0000000000000000000002</td>\n",
       "      <td>107</td>\n",
       "      <td>12</td>\n",
       "    </tr>\n",
       "    <tr>\n",
       "      <th>2</th>\n",
       "      <td>0x0123456789abcdef0000000000000000000003</td>\n",
       "      <td>136</td>\n",
       "      <td>0</td>\n",
       "    </tr>\n",
       "    <tr>\n",
       "      <th>3</th>\n",
       "      <td>0x0123456789abcdef0000000000000000000004</td>\n",
       "      <td>143</td>\n",
       "      <td>7</td>\n",
       "    </tr>\n",
       "    <tr>\n",
       "      <th>4</th>\n",
       "      <td>0x0123456789abcdef0000000000000000000005</td>\n",
       "      <td>225</td>\n",
       "      <td>0</td>\n",
       "    </tr>\n",
       "  </tbody>\n",
       "</table>\n",
       "</div>"
      ],
      "text/plain": [
       "                                    Address  Stake  Tokens\n",
       "0  0x0123456789abcdef0000000000000000000001    161      10\n",
       "1  0x0123456789abcdef0000000000000000000002    107      12\n",
       "2  0x0123456789abcdef0000000000000000000003    136       0\n",
       "3  0x0123456789abcdef0000000000000000000004    143       7\n",
       "4  0x0123456789abcdef0000000000000000000005    225       0"
      ]
     },
     "execution_count": 5,
     "metadata": {},
     "output_type": "execute_result"
    }
   ],
   "source": [
    "df.head()"
   ]
  },
  {
   "cell_type": "markdown",
   "id": "2bfcff4e-e97b-496d-91aa-8319178eb06d",
   "metadata": {},
   "source": [
    "### Definition of the Likelihood Function\n",
    "\n",
    "$$\n",
    "\\textrm{Likelihood} = \\frac{\\textrm{stake} - \\textrm{base price}}{\\textrm{base price}} \\times (\\textrm{token}+1)^2 \n",
    "$$\n",
    "\n",
    "\n"
   ]
  },
  {
   "cell_type": "code",
   "execution_count": 6,
   "id": "361c4807-a62f-4c33-bc6c-3e2aeba64f9d",
   "metadata": {},
   "outputs": [],
   "source": [
    "def likelihood(inputs):\n",
    "    stake = inputs[0]\n",
    "    token = inputs[1]\n",
    "    return (stake-basePrice)/basePrice * (token+1) ** 2"
   ]
  },
  {
   "cell_type": "markdown",
   "id": "1e7844bb-224f-43f8-85e8-0a0e7dfe7794",
   "metadata": {},
   "source": [
    "### Calculate the Likelihoods\n",
    "We calculate the likelihoods of the participants using the function defined above."
   ]
  },
  {
   "cell_type": "code",
   "execution_count": 7,
   "id": "0ac2bb16-ce97-4981-ad6c-1644249dd6ac",
   "metadata": {},
   "outputs": [],
   "source": [
    "df['likelihood'] = df[['Stake','Tokens']].apply(likelihood,axis=1)"
   ]
  },
  {
   "cell_type": "markdown",
   "id": "366e0e2b-ef32-4d0a-b8e6-570758e4dae2",
   "metadata": {},
   "source": [
    "### Round 1\n",
    "Now we choose the first winner.\n",
    "\n",
    "Using likelihoods, we calculated the probability of winning for each participant. Note that the probability is proportional to the likelihood, i.e.,\n",
    "\n"
   ]
  },
  {
   "cell_type": "markdown",
   "id": "d240933d-51c7-47cd-89de-e9e2153995c3",
   "metadata": {},
   "source": [
    "$$\n",
    "\\mathrm{P} \\{ \\textrm{participant A wins the round 1} \\} = \\frac{\\textrm{the likelihood of the pariticipant A}}{\\textrm{the sum of all likelihoods of the participants in the Round 1}}\n",
    "$$"
   ]
  },
  {
   "cell_type": "code",
   "execution_count": 8,
   "id": "ebbaf042-4c1f-4b80-8314-0d748f0196cd",
   "metadata": {},
   "outputs": [],
   "source": [
    "probabilities = (df['likelihood'] / df['likelihood'].sum()).tolist()"
   ]
  },
  {
   "cell_type": "markdown",
   "id": "201adadd-618a-4323-a08a-ec30a25aed10",
   "metadata": {},
   "source": [
    "##### Random Number\n",
    "Now chood a random number between 0 and 1."
   ]
  },
  {
   "cell_type": "code",
   "execution_count": 9,
   "id": "3988dade-7a17-4e55-b85c-49cb09d013c1",
   "metadata": {},
   "outputs": [],
   "source": [
    "rdn = rng.random()"
   ]
  },
  {
   "cell_type": "markdown",
   "id": "716583d7-aca2-433f-9a3f-b5769c06a7d5",
   "metadata": {
    "tags": []
   },
   "source": [
    "##### Find the winner\n",
    "The winner is chosen in the following way:\n",
    "\n",
    "Given the probabilities of the participants that sums to 1, each participants occupies part of the unit interval $[0,1]$. Then the first participant occupies from the 0 and the last participant does from 1- his/her probability to 1.\n",
    "\n",
    "Now the winner is chosen if the random number belongs to the interval of the winner."
   ]
  },
  {
   "cell_type": "code",
   "execution_count": 10,
   "id": "44bb23ab-89d8-4802-b04e-df1cd4493d84",
   "metadata": {},
   "outputs": [],
   "source": [
    "interval_points = [sum(probabilities[:n+1]) for n in range(len(probabilities))]"
   ]
  },
  {
   "cell_type": "code",
   "execution_count": 11,
   "id": "eabfca8b-839b-4fa6-a635-f971d1553def",
   "metadata": {},
   "outputs": [],
   "source": [
    "winnerIndex = len([x for x in interval_points if x < rdn])"
   ]
  },
  {
   "cell_type": "markdown",
   "id": "bef5eb05-0cb7-4816-9850-77bf4cc50b21",
   "metadata": {},
   "source": [
    "##### Winner of Round 1"
   ]
  },
  {
   "cell_type": "code",
   "execution_count": 12,
   "id": "44244ecf-7371-4329-9db7-7e9c84b1f1eb",
   "metadata": {},
   "outputs": [
    {
     "name": "stdout",
     "output_type": "stream",
     "text": [
      "The winner of Round 1 has address 0x0123456789abcdef0000000000000000000021.\n"
     ]
    }
   ],
   "source": [
    "winnerAddress = df.loc[winnerIndex,'Address']\n",
    "print('The winner of Round 1 has address {}.'.format(winnerAddress))"
   ]
  },
  {
   "cell_type": "markdown",
   "id": "dfc5a5e3-1bcf-4c89-ad7e-81e2aff0c142",
   "metadata": {},
   "source": [
    "### Round 2\n",
    "First eliminate the winner."
   ]
  },
  {
   "cell_type": "code",
   "execution_count": 13,
   "id": "14820bc0-c090-437a-b35d-20963750c3be",
   "metadata": {},
   "outputs": [],
   "source": [
    "df_Round2 = df[df['Address']!=winnerAddress]\n",
    "df_Round2 = df_Round2.reset_index(drop=True)"
   ]
  },
  {
   "cell_type": "markdown",
   "id": "50ef39a0-ddab-416b-b38b-90f3885cd934",
   "metadata": {},
   "source": [
    "And calculate the probabilities of winning in Round 2."
   ]
  },
  {
   "cell_type": "code",
   "execution_count": 14,
   "id": "274f72be-745b-4e26-ab59-973038c412b6",
   "metadata": {},
   "outputs": [],
   "source": [
    "probabilitiesRound2 = (df_Round2['likelihood'] / df_Round2['likelihood'].sum()).tolist()"
   ]
  },
  {
   "cell_type": "markdown",
   "id": "37f0083f-0d7e-4674-be9a-812374e9091e",
   "metadata": {},
   "source": [
    "##### Random number for Round 2"
   ]
  },
  {
   "cell_type": "code",
   "execution_count": 15,
   "id": "2c21a7bd-b2e1-4bb5-a3a2-42ccded8d144",
   "metadata": {},
   "outputs": [],
   "source": [
    "rdn = rng.random()"
   ]
  },
  {
   "cell_type": "markdown",
   "id": "fddd85e8-5633-44db-9df7-acc418ad3c40",
   "metadata": {
    "tags": []
   },
   "source": [
    "##### Find the winner of Round 2\n",
    "The winner is chosen as before in the following way:\n",
    "\n",
    "Given the probabilities of the participants that sums to 1, each participants occupies part of the unit interval $[0,1]$. Then the first participant occupies from the 0 and the last participant does from 1- his/her probability to 1.\n",
    "\n",
    "Now the winner is chosen if the random number belongs to the interval of the winner."
   ]
  },
  {
   "cell_type": "code",
   "execution_count": 16,
   "id": "5e0f0d42-42d6-4fed-8500-e37bf9083448",
   "metadata": {},
   "outputs": [],
   "source": [
    "interval_points = [sum(probabilitiesRound2[:n+1]) for n in range(len(probabilitiesRound2))]"
   ]
  },
  {
   "cell_type": "code",
   "execution_count": 17,
   "id": "42627dfa-1cd1-481e-b968-f33a3be40837",
   "metadata": {},
   "outputs": [],
   "source": [
    "winnerIndex = len([x for x in interval_points if x < rdn])"
   ]
  },
  {
   "cell_type": "markdown",
   "id": "ffb7e0b2-593b-440e-816d-528275820e8a",
   "metadata": {},
   "source": [
    "##### Winner of Round 2"
   ]
  },
  {
   "cell_type": "code",
   "execution_count": 18,
   "id": "5eb72501-f679-4a85-af32-7a272ae19877",
   "metadata": {},
   "outputs": [
    {
     "name": "stdout",
     "output_type": "stream",
     "text": [
      "The winner of Round 2 has address 0x0123456789abcdef0000000000000000000033.\n"
     ]
    }
   ],
   "source": [
    "winnerAddress = df_Round2.loc[winnerIndex,'Address']\n",
    "print('The winner of Round 2 has address {}.'.format(winnerAddress))"
   ]
  },
  {
   "cell_type": "code",
   "execution_count": null,
   "id": "82eb82f5-ddc4-47c8-aa1c-b75e4264da20",
   "metadata": {},
   "outputs": [],
   "source": []
  }
 ],
 "metadata": {
  "interpreter": {
   "hash": "dc0bdc70a7bb2e17241366e13e903ae1b5ef00b33251a7a7c3cc439bee99a6d3"
  },
  "kernelspec": {
   "display_name": "chainlink_hackathon",
   "language": "python",
   "name": "python3"
  },
  "language_info": {
   "codemirror_mode": {
    "name": "ipython",
    "version": 3
   },
   "file_extension": ".py",
   "mimetype": "text/x-python",
   "name": "python",
   "nbconvert_exporter": "python",
   "pygments_lexer": "ipython3",
   "version": "3.8.10"
  }
 },
 "nbformat": 4,
 "nbformat_minor": 5
}
